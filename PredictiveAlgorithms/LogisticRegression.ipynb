{
 "cells": [
  {
   "cell_type": "code",
   "execution_count": null,
   "metadata": {},
   "outputs": [],
   "source": [
    "import pandas as pd\n",
    "import numpy as np\n",
    "\n",
    "#Importing libraries  for visualisation of data\n",
    "import matplotlib\n",
    "import seaborn as sns\n",
    "import matplotlib.pyplot as plt\n",
    "matplotlib.rcParams.update({'font.size': 12})\n",
    "\n",
    "#Importing sklearn libraries for modelling and evaluation\n",
    "\n",
    "from sklearn.model_selection import RandomizedSearchCV\n",
    "from sklearn.model_selection import cross_val_score\n",
    "from sklearn.model_selection import train_test_split\n",
    "from sklearn.model_selection import KFold\n",
    "from sklearn.neighbors import KNeighborsRegressor as knnr\n",
    "from sklearn.metrics import mean_squared_error as mse\n",
    "\n",
    "\n",
    "\n",
    "from random import randint #To generate random numbers in a given range\n",
    "\n",
    "#Importing datetime module\n",
    "from time import time\n",
    "from datetime import date, timedelta #For creating additional time based features\n",
    "\n",
    "\n",
    "from sklearn.preprocessing import MinMaxScaler ## Importing the MinMax Scaler\n",
    "\n",
    "from sklearn.neighbors import KNeighborsClassifier, KNeighborsRegressor\n",
    "\n",
    "from sklearn.ensemble import RandomForestClassifier, RandomForestRegressor\n",
    "\n",
    "from sklearn.metrics import accuracy_score, confusion_matrix, classification_report, f1_score, roc_curve, roc_auc_score, auc, mean_squared_log_error\n",
    "\n",
    "\n",
    "#importing all the important libraries\n",
    "#Importing XGBoost module\n",
    "import xgboost as xgb \n",
    "from xgboost import plot_importance\n",
    "from xgboost import XGBRegressor #For modelling train data to predict Sales\n",
    "\n",
    "pd.set_option('display.max_columns', None)  #To display all the columns in dataset"
   ]
  },
  {
   "cell_type": "code",
   "execution_count": null,
   "metadata": {},
   "outputs": [],
   "source": [
    "ppf = pd.read_csv('processedflights15july.csv')\n",
    "\n",
    "# X = ppf.drop([\"Arrival Delay (Minutes)\", \"Delayed?\",\"Taxi-In time (Minutes)\", \"xa\", \"ya\", \"Departure Delay (Minutes)\"],axis=1)\n",
    "X = ppf.drop([\"Arrival Delay (Minutes)\", \"Delayed?\"],axis=1)\n",
    "y = ppf[\"Arrival Delay (Minutes)\"]\n",
    "y1 = ppf[\"Delayed?\"]\n",
    "y2 = ppf[\"Departure Delay (Minutes)\"]\n",
    "\n",
    "scaler = MinMaxScaler()\n",
    "Xs = scaler.fit_transform(X)\n",
    "\n",
    "train_x,test_x,train_y,test_y = train_test_split(Xs,y1, test_size=0.2, random_state = 50, stratify=y1)\n",
    "#for classification\n",
    "train_x1, val_x, train_y1, val_y = train_test_split(train_x, train_y, test_size = 0.2 , random_state = 50, stratify = train_y)\n",
    "\n",
    "print('training data    ',train_x.shape,train_y.shape)\n",
    "print('validation data  ',val_x.shape,val_y.shape)\n",
    "print('test data        ',test_x.shape,test_y.shape)\n",
    "\n",
    "train_xr,test_xr,train_yr,test_yr = train_test_split(Xs,y, test_size=0.2, random_state = 50, stratify=y1)\n",
    "#for arrival regression\n",
    "train_x1r, val_xr, train_y1r, val_yr = train_test_split(train_xr, train_yr, test_size = 0.2 , random_state = 50, stratify = train_y)\n",
    "\n",
    "print('training data    ',train_xr.shape,train_yr.shape)\n",
    "print('validation data  ',val_xr.shape,val_yr.shape)\n",
    "print('test data        ',test_xr.shape,test_yr.shape)\n",
    "\n",
    "train_xr1,test_xr1,train_yr1,test_yr1 = train_test_split(Xs,y2, test_size=0.2, random_state = 50, stratify=y1)\n",
    "#for delay regression\n",
    "train_x1r1, val_xr1, train_y1r1, val_yr1 = train_test_split(train_xr1, train_yr1, test_size = 0.2 , random_state = 50, stratify = train_y)\n",
    "\n",
    "print('training data    ',train_xr1.shape,train_yr1.shape)\n",
    "print('validation data  ',val_xr1.shape,val_yr1.shape)\n",
    "print('test data        ',test_xr1.shape,test_yr1.shape)"
   ]
  },
  {
   "cell_type": "markdown",
   "metadata": {},
   "source": [
    "LOGISTIC REGRESSION"
   ]
  },
  {
   "cell_type": "code",
   "execution_count": null,
   "metadata": {},
   "outputs": [],
   "source": [
    "#importing Logistic Regression and metric F1-score\n",
    "from sklearn.linear_model import LogisticRegression as LogReg\n",
    "from sklearn.metrics import f1_score"
   ]
  },
  {
   "cell_type": "code",
   "execution_count": null,
   "metadata": {},
   "outputs": [],
   "source": [
    "# Creating instance of Logistic Regresssion\n",
    "logreg = LogReg()\n",
    "\n",
    "# Fitting the model\n",
    "logreg.fit(train_x, train_y)"
   ]
  },
  {
   "cell_type": "code",
   "execution_count": null,
   "metadata": {},
   "outputs": [],
   "source": [
    "# Predicting over the Train\n",
    "train_predict = logreg.predict(train_x)\n",
    "train_predict"
   ]
  },
  {
   "cell_type": "code",
   "execution_count": null,
   "metadata": {},
   "outputs": [],
   "source": [
    "# Calculating f1-score\n",
    "f1logreg = f1_score(train_predict, train_y)\n",
    "print('Training f1_score', f1logreg )"
   ]
  },
  {
   "cell_type": "code",
   "execution_count": null,
   "metadata": {},
   "outputs": [],
   "source": [
    "# Predicting over the Test Set and f1-score\n",
    "test_predictlogreg = logreg.predict(test_x)\n",
    "f1logregtest = f1_score(test_predictlogreg, test_y)\n",
    "print('Test f1_score    ', f1logregtest )"
   ]
  },
  {
   "cell_type": "code",
   "execution_count": null,
   "metadata": {},
   "outputs": [],
   "source": [
    "# Predicting over the Train\n",
    "train_predict = logreg.predict_proba(train_x)\n",
    "train_predict"
   ]
  },
  {
   "cell_type": "code",
   "execution_count": null,
   "metadata": {},
   "outputs": [],
   "source": [
    "train_preds = train_predict[:,1]\n",
    "train_preds"
   ]
  },
  {
   "cell_type": "code",
   "execution_count": null,
   "metadata": {},
   "outputs": [],
   "source": [
    "for i in range(0, len(train_preds)):\n",
    "  if(train_preds[i]>0.55):\n",
    "    train_preds[i] = 1\n",
    "  else:\n",
    "    train_preds[i] = 0\n",
    "  "
   ]
  },
  {
   "cell_type": "code",
   "execution_count": null,
   "metadata": {},
   "outputs": [],
   "source": [
    "# Calculating f1-score\n",
    "k = f1_score(train_preds, train_y)\n",
    "print('Training f1_score', k )"
   ]
  },
  {
   "cell_type": "code",
   "execution_count": null,
   "metadata": {},
   "outputs": [],
   "source": [
    "from sklearn.metrics import confusion_matrix\n",
    "cf= confusion_matrix(test_y, test_predictlogreg)\n",
    "print(cf)"
   ]
  },
  {
   "cell_type": "code",
   "execution_count": null,
   "metadata": {},
   "outputs": [],
   "source": [
    "from sklearn.metrics import classification_report as rep\n",
    "print(rep( test_y , test_predictlogreg ))"
   ]
  },
  {
   "cell_type": "code",
   "execution_count": null,
   "metadata": {},
   "outputs": [],
   "source": [
    "# printing the coefficients\n",
    "logreg.coef_"
   ]
  },
  {
   "cell_type": "code",
   "execution_count": null,
   "metadata": {},
   "outputs": [],
   "source": [
    "plt.figure(figsize=(8, 6), dpi=120, facecolor='w', edgecolor='b')\n",
    "x = range(train_x.shape[1])\n",
    "c = logreg.coef_.reshape(-1)\n",
    "plt.bar( x, c )\n",
    "plt.xlabel( \"Variables\")\n",
    "plt.ylabel('Coefficients')\n",
    "plt.title('Coefficient plot')"
   ]
  },
  {
   "cell_type": "code",
   "execution_count": null,
   "metadata": {},
   "outputs": [],
   "source": [
    "Coefficients = pd.DataFrame({\n",
    "    'Variable'    : flights.columns,\n",
    "    'coefficient' : abs(c)\n",
    "})\n",
    "Coefficients.head()"
   ]
  },
  {
   "cell_type": "code",
   "execution_count": null,
   "metadata": {},
   "outputs": [],
   "source": [
    "#selecting variables with high coefficient\n",
    "sig_var = Coefficients[Coefficients.coefficient > 0.3]"
   ]
  },
  {
   "cell_type": "code",
   "execution_count": null,
   "metadata": {},
   "outputs": [],
   "source": [
    "subset = data[sig_var['Variable'].values]\n",
    "subset.head()"
   ]
  }
 ],
 "metadata": {
  "language_info": {
   "name": "python"
  },
  "orig_nbformat": 4
 },
 "nbformat": 4,
 "nbformat_minor": 2
}
